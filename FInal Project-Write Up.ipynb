{
 "cells": [
  {
   "cell_type": "markdown",
   "id": "b6839409-22c8-432f-842f-b9955550935c",
   "metadata": {},
   "source": [
    "# Prevent or Delay Diabetes \n",
    "\n",
    "## Abstract  \n",
    "\n",
    "Diabetes is a chronic disease that affects how the body uses blood glucose and is one of the leading causes of death in the United States. For diabetic patients, their body either stops making insulin or does not use insulin effectively. When the body does not have enough insulin, it causes high blood glucose level in the bloodstream which can cause serious health problems, such as kidney failure and lower-limb amputation. Type 2 is the most common type of diabetes, and it can be prevented or delayed with healthy lifestyle changes, such as lose weight and eat healthy food.\n",
    "\n",
    "The goal of this project is to investigate the factors that are most associated with diabetic patients. This allows physicians to target patients who are most likely to be diagnosed with diabetes and recommend interventions that will prevent or delay diabetes. Interventions include blood sugar control, lifestyle changes, weight management, physical activity, and diet.\n",
    "\n",
    "## Data Science Solution  \n",
    "#### Opportunity  \n",
    "\n",
    "According to Centers for Disease Control and Prevention (CDC), millions of people worldwide are living with diabetes, and in 2040, more than half a billion will have diabetes. Determining the factors that are associated with diabetes allow physicians to recommend interventions that will prevent or delay diabetes.\n",
    "\n",
    "#### Impact Hypothesis\n",
    "\n",
    "We hypothesize that by investigating the factors that are most associated with diabetic patients will allow physicians to target patients who are most likely to be diagnosed with diabetes and recommend interventions that will prevent or delay diabetes.\n",
    "\n",
    "#### Solution Path\n",
    "\n",
    "Determine the factors that are most associated with diabetes by performing data analysis on diabetic patients and visualize the findings with multiple factors, such as body mass index, blood pressure, and cholesterol. \n",
    "\n",
    "#### Measure of Success\n",
    "\n",
    "Prioritize 3 factors that are most associated with diabetes.\n",
    "\n",
    "## Data\n",
    "\n",
    "I used the diabetes health indicators dataset from Kaggle. The target variable diabetes has 3 classes: no diabetes, prediabetes, diabetes. Since the scope of this project is diabetes, I dropped rows from the data that contain “no diabetes” and “prediabetes”.\n",
    "\n",
    "This is the link to my [Google Sheets](https://docs.google.com/spreadsheets/d/1b-Q0xCfvJscso6oaSr4-d8KaJHbQKmAaRCActu_F7Sw/edit#gid=2081386921) in which I performed data analysis and used this dataset for visualizations in Tableau. The Google Sheets also includes tabs with pivot tables.\n",
    "\n",
    "The link to the interactive Tableau dashboard can be found [here](https://public.tableau.com/app/profile/jillk/viz/DiabetesAnalysis_16572561299050/Dashboard1)\n",
    "\n",
    "## Algorithms\n",
    "I did not use algorithms for this project. All data cleaning and exploratory data analysis are carried out in Google Sheets.\n",
    "\n",
    "## Tools\n",
    "* Google Sheets for data cleaning and analysis\n",
    "* Tableau for interactive visualizations\n",
    "\n",
    "## Communication\n",
    "\n",
    "My presentation slides and visualizations are in this project's repository.\n"
   ]
  }
 ],
 "metadata": {
  "kernelspec": {
   "display_name": "Python 3 (regression)",
   "language": "python",
   "name": "regression"
  },
  "language_info": {
   "codemirror_mode": {
    "name": "ipython",
    "version": 3
   },
   "file_extension": ".py",
   "mimetype": "text/x-python",
   "name": "python",
   "nbconvert_exporter": "python",
   "pygments_lexer": "ipython3",
   "version": "3.8.13"
  }
 },
 "nbformat": 4,
 "nbformat_minor": 5
}
